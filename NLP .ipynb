{
  "nbformat": 4,
  "nbformat_minor": 0,
  "metadata": {
    "colab": {
      "provenance": [],
      "authorship_tag": "ABX9TyOyCmhiZNfTFh36WzLWeEEu",
      "include_colab_link": true
    },
    "kernelspec": {
      "name": "python3",
      "display_name": "Python 3"
    },
    "language_info": {
      "name": "python"
    }
  },
  "cells": [
    {
      "cell_type": "markdown",
      "metadata": {
        "id": "view-in-github",
        "colab_type": "text"
      },
      "source": [
        "<a href=\"https://colab.research.google.com/github/Sharmagargi56/Correlation/blob/main/NLP%20.ipynb\" target=\"_parent\"><img src=\"https://colab.research.google.com/assets/colab-badge.svg\" alt=\"Open In Colab\"/></a>"
      ]
    },
    {
      "cell_type": "code",
      "execution_count": 16,
      "metadata": {
        "colab": {
          "base_uri": "https://localhost:8080/"
        },
        "id": "RyQ4s6g1mIOF",
        "outputId": "a6d85b1d-03eb-4a8d-e50c-201a000e308a"
      },
      "outputs": [
        {
          "output_type": "stream",
          "name": "stderr",
          "text": [
            "[nltk_data] Downloading package punkt to /root/nltk_data...\n",
            "[nltk_data]   Package punkt is already up-to-date!\n",
            "[nltk_data] Downloading package averaged_perceptron_tagger to\n",
            "[nltk_data]     /root/nltk_data...\n",
            "[nltk_data]   Unzipping taggers/averaged_perceptron_tagger.zip.\n"
          ]
        },
        {
          "output_type": "stream",
          "name": "stdout",
          "text": [
            "['she', 'lookes', 'good', '.', 'she', 'is', 'from', 'india']\n",
            "[('she', 'PRP'), ('lookes', 'VBZ'), ('good', 'JJ'), ('.', '.'), ('she', 'PRP'), ('is', 'VBZ'), ('from', 'IN'), ('india', 'NN')]\n"
          ]
        }
      ],
      "source": [
        "import nltk\n",
        "nltk.download('punkt')\n",
        "from nltk.tokenize import word_tokenize as wt\n",
        "words=wt('she lookes good''. she is from india')\n",
        "print(words)\n",
        "\n",
        "## nltk.download('averaged_perceptron_tagger')## this is additioanl function which we need to download in order to work on pos_tag;\n",
        "from nltk import pos_tag as pt\n",
        "pos_tags=pt(words)\n",
        "print(pos_tags)\n"
      ]
    }
  ]
}